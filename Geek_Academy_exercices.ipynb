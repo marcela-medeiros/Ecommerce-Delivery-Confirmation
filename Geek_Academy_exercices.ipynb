{
  "nbformat": 4,
  "nbformat_minor": 0,
  "metadata": {
    "colab": {
      "name": "Geek Academy_exercices.ipynb",
      "provenance": [],
      "authorship_tag": "ABX9TyOWm+SLBO67GDqOILzxZNyv",
      "include_colab_link": true
    },
    "kernelspec": {
      "name": "python3",
      "display_name": "Python 3"
    },
    "language_info": {
      "name": "python"
    }
  },
  "cells": [
    {
      "cell_type": "markdown",
      "metadata": {
        "id": "view-in-github",
        "colab_type": "text"
      },
      "source": [
        "<a href=\"https://colab.research.google.com/github/marcela-medeiros/marcela-medeiros/blob/main/Geek_Academy_exercices.ipynb\" target=\"_parent\"><img src=\"https://colab.research.google.com/assets/colab-badge.svg\" alt=\"Open In Colab\"/></a>"
      ]
    },
    {
      "cell_type": "code",
      "metadata": {
        "colab": {
          "base_uri": "https://localhost:8080/"
        },
        "id": "SZ8v9kA4tNni",
        "outputId": "28cbdfd3-0746-4691-8b85-cabd2b30a494"
      },
      "source": [
        "num = int(input('Digite um número inteiro:'))\n",
        "print(num)\n"
      ],
      "execution_count": null,
      "outputs": [
        {
          "output_type": "stream",
          "text": [
            "Digite um número inteiro:90\n",
            "90\n"
          ],
          "name": "stdout"
        }
      ]
    }
  ]
}