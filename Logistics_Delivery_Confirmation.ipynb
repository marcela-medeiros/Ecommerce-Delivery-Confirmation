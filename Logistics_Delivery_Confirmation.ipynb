{
  "nbformat": 4,
  "nbformat_minor": 0,
  "metadata": {
    "colab": {
      "name": "Logistics_Delivery Confirmation",
      "provenance": [],
      "collapsed_sections": [],
      "authorship_tag": "ABX9TyOrLiPCZYEAyYktliNMZPCC",
      "include_colab_link": true
    },
    "kernelspec": {
      "display_name": "Python 3",
      "name": "python3"
    },
    "language_info": {
      "name": "python"
    }
  },
  "cells": [
    {
      "cell_type": "markdown",
      "metadata": {
        "id": "view-in-github",
        "colab_type": "text"
      },
      "source": [
        "<a href=\"https://colab.research.google.com/github/marcela-medeiros/marcela-medeiros/blob/main/Logistics_Delivery_Confirmation.ipynb\" target=\"_parent\"><img src=\"https://colab.research.google.com/assets/colab-badge.svg\" alt=\"Open In Colab\"/></a>"
      ]
    },
    {
      "cell_type": "code",
      "metadata": {
        "colab": {
          "base_uri": "https://localhost:8080/"
        },
        "id": "22Ez3FmjS4-m",
        "outputId": "73e9db15-9a4d-4b5c-938f-b97e40e6c47d"
      },
      "source": [
        "cpfNum = int(input(\"Please inform your ID number:  \"))\n",
        "\n",
        "\n",
        "# Part 1:\n",
        "\n",
        "if (cpfNum == 5648258402):\n",
        "  #Part 1.1\n",
        "        \n",
        "  print (\"Hello Marcela! How are you?\\nWe received from PyTransport the delivery confirmation of your Invoice # 726338 \\nProduct: TWS PTO EARPHONE,\\nOn the date of 07/17/2021, do you confirm the receipt?\\n\\n Please answer with: \\n 1 if YES, \\n 2 if NO\")\n",
        "    \n",
        "  reply = int(input())\n",
        "  \n",
        "  #Part 2\n",
        "\n",
        "  if (reply == 1):\n",
        "   print (\"That's great news! Did all go well with the delivery?\")\n",
        "  \n",
        "   replytwo = int(input())\n",
        "\n",
        "  if (replytwo == 1):\n",
        "        print (\"Fantastic! We will send you a customer satisfaction survey to your email. Grades 9 and 10 indicate a satisfied customer. We appreciate if you can answer it.\")\n",
        "  elif (replytwo == 2):\n",
        "   print (\"Sorry to hear that! We'll check your delivery status and inform you by e-mail\")\n",
        " \n",
        "  \n",
        "  \n",
        "  #Part 3\n",
        "\n",
        "elif (cpfNum != 5648258402) :\n",
        " print (\"User not found\")"
      ],
      "execution_count": 8,
      "outputs": [
        {
          "output_type": "stream",
          "text": [
            "Please inform your ID number:  5648258402\n",
            "Hello Marcela! How are you?\n",
            "We received from PyTransport the delivery confirmation of your Invoice # 726338 \n",
            "Product: TWS PTO EARPHONE,\n",
            "On the date of 07/17/2021, do you confirm the receipt?\n",
            "\n",
            " Please answer with: \n",
            " 1 if YES, \n",
            " 2 if NO\n",
            "1\n",
            "That's great news! Did all go well with the delivery?\n",
            "1\n",
            "Fantastic! We will send you a customer satisfaction survey to your email. Grades 9 and 10 indicate a satisfied customer. We appreciate if you can answer it.\n"
          ],
          "name": "stdout"
        }
      ]
    }
  ]
}