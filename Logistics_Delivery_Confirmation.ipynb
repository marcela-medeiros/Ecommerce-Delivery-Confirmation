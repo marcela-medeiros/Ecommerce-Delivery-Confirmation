{
  "nbformat": 4,
  "nbformat_minor": 0,
  "metadata": {
    "colab": {
      "name": "Logistics_Delivery Confirmation",
      "provenance": [],
      "collapsed_sections": [],
      "authorship_tag": "ABX9TyPbHfkFHnenSBzr99JyNCM2",
      "include_colab_link": true
    },
    "kernelspec": {
      "display_name": "Python 3",
      "name": "python3"
    },
    "language_info": {
      "name": "python"
    }
  },
  "cells": [
    {
      "cell_type": "markdown",
      "metadata": {
        "id": "view-in-github",
        "colab_type": "text"
      },
      "source": [
        "<a href=\"https://colab.research.google.com/github/marcela-medeiros/marcela-medeiros/blob/main/Logistics_Delivery_Confirmation.ipynb\" target=\"_parent\"><img src=\"https://colab.research.google.com/assets/colab-badge.svg\" alt=\"Open In Colab\"/></a>"
      ]
    },
    {
      "cell_type": "code",
      "metadata": {
        "colab": {
          "base_uri": "https://localhost:8080/"
        },
        "id": "22Ez3FmjS4-m",
        "outputId": "4e262d9e-3a8a-4be6-d009-43582f9d22e0"
      },
      "source": [
        "idNum = int(input(\"Please inform your ID number:  \"))\n",
        "\n",
        "\n",
        "# Block 1:\n",
        "\n",
        "if (idNum == 11223344):\n",
        "  #Block 1.1\n",
        "        \n",
        "  print (\"Hello Marcela! How are you?\\nWe received from PyTransport the delivery confirmation of your Invoice # 726338 \\nProduct: TWS PTO EARPHONE,\\nOn the date of 07/17/2021, do you confirm the receipt?\\n\\n Please answer with: \\n 1 if YES, \\n 2 if NO\")\n",
        "    \n",
        "  reply = int(input())\n",
        "  \n",
        "  #Block 2\n",
        "\n",
        "  if (reply == 1):\n",
        "   print (\"That's great news! Did all go well with the delivery?\")\n",
        "  \n",
        "   replytwo = int(input())\n",
        "\n",
        "  if (replytwo == 1):\n",
        "        print (\"Fantastic! We will send you a customer satisfaction survey to your email. Grades 9 and 10 indicate a satisfied customer. We appreciate if you can answer it.\")\n",
        "  elif (replytwo == 2):\n",
        "   print (\"Sorry to hear that! We'll check your delivery status and inform you by e-mail\")\n",
        " \n",
        "  \n",
        "  \n",
        "  #Block 3\n",
        "\n",
        "elif (idNum != 11223344) :\n",
        " print (\"User not found\")"
      ],
      "execution_count": 11,
      "outputs": [
        {
          "output_type": "stream",
          "text": [
            "Please inform your ID number:  11223344\n",
            "Hello Marcela! How are you?\n",
            "We received from PyTransport the delivery confirmation of your Invoice # 726338 \n",
            "Product: TWS PTO EARPHONE,\n",
            "On the date of 07/17/2021, do you confirm the receipt?\n",
            "\n",
            " Please answer with: \n",
            " 1 if YES, \n",
            " 2 if NO\n",
            "2\n",
            "Sorry to hear that! We'll check your delivery status and inform you by e-mail\n"
          ],
          "name": "stdout"
        }
      ]
    }
  ]
}